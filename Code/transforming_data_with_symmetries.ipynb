{
 "cells": [
  {
   "cell_type": "markdown",
   "id": "6804861a",
   "metadata": {},
   "source": [
    "# Transforming data with symmetries\n",
    "*Written by:* Johannes Borgqvist,<br>\n",
    "*Date:* 2022-09-15.<br>\n",
    "In this document, we consider two minimal models. The first one is the linear model\n",
    "$$y(t)=Ct$$\n",
    "where $t$ is the explanatory variable corresponding to the time, $y(t)$ is the response variable and $C\\in\\mathbb{R}$ is an arbitrary constant. We will compare this to the cubic model\n",
    "$$y(t)=Ct^3.$$\n",
    "From a symmetry perspective these two models are actually quite distinct, and also it is well-known that we can approximate a linear model with a cubic model and vice versa for certain ranges of $t$. So these two models might be well-suited for investigating the statistical properties of our proposed symmetry framework for model selection. Let's list the symmetry properties of our two models. \n",
    "## The linear model has a rotation symmetry\n",
    "The ODE formulation of the linear model is:\n",
    "$$\\dfrac{\\mathrm{d}y}{\\mathrm{d}t}=\\dfrac{y}{t}.$$\n",
    "The infinitesimal generator of the rotation symmetry is given by\n",
    "$$X_R=-y\\partial_t+t\\partial_y$$\n",
    "and it generates the rotation symmetry $\\Gamma_{\\epsilon}^{R}$ given by\n",
    "$$\\Gamma_{\\epsilon}^{R}:(t,y)\\mapsto (t\\cos(\\epsilon)-y\\sin(\\epsilon),t\\sin(\\epsilon)+y\\cos(\\epsilon)).$$\n",
    "Also, any rotated curve is given by the following equation\n",
    "\\begin{equation}\n",
    "\\hat{y}(t;\\epsilon)=\\hat{C}_1(\\epsilon)t,\\quad\\hat{C}_1(\\epsilon)=C\\cos(\\epsilon)-C^2\\sin(\\epsilon).\n",
    "\\end{equation}\n",
    "## The cubic model has a scaling symmetry\n",
    "The ODE formulation of the cubic model is:\n",
    "$$\\dfrac{\\mathrm{d}y}{\\mathrm{d}t}=\\dfrac{3y}{t}.$$\n",
    "The infinitesimal generator of the scaling symmetry is given by\n",
    "$$X_S=t\\partial_t+y\\partial_y$$\n",
    "and it generates the scaling symmetry $\\Gamma_{\\epsilon}^{S}$ given by\n",
    "$$\\Gamma_{\\epsilon}^{R}:(t,y)\\mapsto (t\\exp(\\epsilon),y\\exp(\\epsilon)).$$\n",
    "Also, any scaled curve is given by the following equation\n",
    "\\begin{equation}\n",
    "\\hat{y}(t;\\epsilon)=\\hat{C}_2(\\epsilon)t^3,\\quad\\hat{C}_2(\\epsilon)=C\\exp(3\\epsilon).\n",
    "\\end{equation}\n",
    "\n",
    "So, let's investigate these models and their symmetries further!"
   ]
  },
  {
   "cell_type": "code",
   "execution_count": null,
   "id": "45fe699b",
   "metadata": {},
   "outputs": [],
   "source": []
  }
 ],
 "metadata": {
  "kernelspec": {
   "display_name": "Python 3",
   "language": "python",
   "name": "python3"
  },
  "language_info": {
   "codemirror_mode": {
    "name": "ipython",
    "version": 3
   },
   "file_extension": ".py",
   "mimetype": "text/x-python",
   "name": "python",
   "nbconvert_exporter": "python",
   "pygments_lexer": "ipython3",
   "version": "3.8.8"
  }
 },
 "nbformat": 4,
 "nbformat_minor": 5
}
